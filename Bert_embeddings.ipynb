{
  "nbformat": 4,
  "nbformat_minor": 0,
  "metadata": {
    "colab": {
      "provenance": [],
      "authorship_tag": "ABX9TyObKQzbzyU4sNzHqOy6hq8+",
      "include_colab_link": true
    },
    "kernelspec": {
      "name": "python3",
      "display_name": "Python 3"
    },
    "language_info": {
      "name": "python"
    }
  },
  "cells": [
    {
      "cell_type": "markdown",
      "metadata": {
        "id": "view-in-github",
        "colab_type": "text"
      },
      "source": [
        "<a href=\"https://colab.research.google.com/github/ahelmasri87/aaa/blob/main/Bert_embeddings.ipynb\" target=\"_parent\"><img src=\"https://colab.research.google.com/assets/colab-badge.svg\" alt=\"Open In Colab\"/></a>"
      ]
    },
    {
      "cell_type": "code",
      "execution_count": null,
      "metadata": {
        "id": "VZ_RBmrpENti"
      },
      "outputs": [],
      "source": [
        "#BERT embeddings\n",
        "sbs_df.columns = sbs_df.columns.str.strip().str.lower()\n",
        "cpt_df.columns = cpt_df.columns.str.strip().str.lower()\n",
        "achi_df.columns = achi_df.columns.str.strip().str.lower()\n",
        "sbs_df[\"service description\"] = sbs_df[\"service description\"].str.lower()\n",
        "cpt_df[\"service description\"] = cpt_df[\"service description\"].str.lower()\n",
        "achi_df[\"service description\"] = achi_df[\"service description\"].str.lower()\n",
        "sbs_df = pd.read_excel(\"/content/sbs_codes.xlsx\", header=0)\n",
        "cpt_df = pd.read_excel(\"/content/cpt_codes.xlsx\", header=0)\n",
        "achi_df = pd.read_excel(\"/content/achi_codes.xlsx\", header=0)\n",
        "from sentence_transformers import SentenceTransformer\n",
        "\n",
        "\n",
        "import pandas as pd\n",
        "import torch\n",
        "from sentence_transformers import SentenceTransformer, util\n",
        "\n",
        "# Load BERT model for embeddings\n",
        "model = SentenceTransformer(\"all-MiniLM-L6-v2\")\n",
        "\n",
        "# Standardizing column names\n",
        "sbs_df.columns = sbs_df.columns.str.strip().str.lower()\n",
        "cpt_df.columns = cpt_df.columns.str.strip().str.lower()\n",
        "achi_df.columns = achi_df.columns.str.strip().str.lower()\n",
        "\n",
        "# Convert descriptions to lowercase for uniformity\n",
        "sbs_df[\"service description\"] = sbs_df[\"service description\"].str.lower()\n",
        "cpt_df[\"service description\"] = cpt_df[\"service description\"].str.lower()\n",
        "achi_df[\"service description\"] = achi_df[\"service description\"].str.lower()\n",
        "\n",
        "# Compute embeddings for each dataset\n",
        "sbs_df[\"embedding\"] = sbs_df[\"service description\"].apply(lambda x: model.encode(x, convert_to_tensor=True))\n",
        "cpt_df[\"embedding\"] = cpt_df[\"service description\"].apply(lambda x: model.encode(x, convert_to_tensor=True))\n",
        "achi_df[\"embedding\"] = achi_df[\"service description\"].apply(lambda x: model.encode(x, convert_to_tensor=True))\n",
        "\n"
      ]
    },
    {
      "cell_type": "code",
      "source": [
        "def get_code_from_description():\n",
        "\n",
        "    # Step 1: Ask for user input\n",
        "    user_input = input(\"Enter the medical service description: \").strip().lower()\n",
        "\n",
        "    # Step 2: Ask the user to choose the code type\n",
        "    code_type = input(\"Which code do you need? (CPT, SBS, ACHI): \").strip().upper()\n",
        "\n",
        "    # Select the correct dataset\n",
        "    if code_type == \"SBS\":\n",
        "        df = sbs_df\n",
        "    elif code_type == \"CPT\":\n",
        "        df = cpt_df\n",
        "    elif code_type == \"ACHI\":\n",
        "        df = achi_df\n",
        "    else:\n",
        "        print(\"Invalid selection! Please choose CPT, SBS, or ACHI.\")\n",
        "        return\n",
        "\n",
        "    # Compute user input embedding\n",
        "    user_embedding = model.encode(user_input, convert_to_tensor=True)\n",
        "\n",
        "    # Compute similarity scores\n",
        "    similarity_scores = [util.pytorch_cos_sim(user_embedding, emb)[0].item() for emb in df[\"embedding\"]]\n",
        "\n",
        "    # Find the best match\n",
        "    best_match_idx = similarity_scores.index(max(similarity_scores))\n",
        "    best_match_score = max(similarity_scores)\n",
        "\n",
        "    # Convert similarity score to percentage\n",
        "    similarity_percentage = round(best_match_score * 100, 2)\n",
        "\n",
        "    # Retrieve the best match details\n",
        "    best_match_description = df.iloc[best_match_idx][\"service description\"]\n",
        "    best_match_code = df.iloc[best_match_idx][\"code\"]\n",
        "\n",
        "    # Print the outcome\n",
        "    print(\"\\nBest Match Found:\")\n",
        "    print(f\"Code: {best_match_code}\")\n",
        "    print(f\"Description: {best_match_description.capitalize()}\")\n",
        "    print(f\"Similarity: {similarity_percentage}%\")\n",
        "\n",
        "# Run the function\n",
        "get_code_from_description()\n"
      ],
      "metadata": {
        "id": "w_R0uODpEROf"
      },
      "execution_count": null,
      "outputs": []
    },
    {
      "cell_type": "code",
      "source": [],
      "metadata": {
        "id": "vc8zT4RqEcWs"
      },
      "execution_count": null,
      "outputs": []
    }
  ]
}