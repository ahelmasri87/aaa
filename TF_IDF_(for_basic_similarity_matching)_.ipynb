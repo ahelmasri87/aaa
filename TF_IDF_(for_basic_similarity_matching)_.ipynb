{
  "nbformat": 4,
  "nbformat_minor": 0,
  "metadata": {
    "colab": {
      "provenance": [],
      "authorship_tag": "ABX9TyO4g9uYW483jlG3extgMAVU",
      "include_colab_link": true
    },
    "kernelspec": {
      "name": "python3",
      "display_name": "Python 3"
    },
    "language_info": {
      "name": "python"
    }
  },
  "cells": [
    {
      "cell_type": "markdown",
      "metadata": {
        "id": "view-in-github",
        "colab_type": "text"
      },
      "source": [
        "<a href=\"https://colab.research.google.com/github/ahelmasri87/aaa/blob/main/TF_IDF_(for_basic_similarity_matching)_.ipynb\" target=\"_parent\"><img src=\"https://colab.research.google.com/assets/colab-badge.svg\" alt=\"Open In Colab\"/></a>"
      ]
    },
    {
      "cell_type": "code",
      "source": [
        "import pandas as pd\n",
        "from sklearn.feature_extraction.text import TfidfVectorizer\n",
        "from sklearn.metrics.pairwise import cosine_similarity\n",
        "\n",
        "# Load the datasets (Ensure they have \"Service Description\" and \"Code\" columns)\n",
        "sbs_df = pd.read_excel(\"/content/sbs_codes.xlsx\")\n",
        "cpt_df = pd.read_excel(\"/content/cpt_codes.xlsx\")\n",
        "achi_df = pd.read_excel(\"/content/achi_codes.xlsx\")\n",
        "\n",
        "print(sbs_df.columns)\n",
        "print(cpt_df.columns)\n",
        "print(achi_df.columns)\n"
      ],
      "metadata": {
        "colab": {
          "base_uri": "https://localhost:8080/"
        },
        "id": "bCC4IHM5y9IA",
        "outputId": "cc9022c2-7ec9-4f30-dc3d-8cb695c2ee27"
      },
      "execution_count": 10,
      "outputs": [
        {
          "output_type": "stream",
          "name": "stdout",
          "text": [
            "Index(['Code', 'Service Description'], dtype='object')\n",
            "Index(['Code', 'Service Description'], dtype='object')\n",
            "Index(['Code', 'Service Description'], dtype='object')\n"
          ]
        }
      ]
    },
    {
      "cell_type": "code",
      "source": [
        "#TF-IDF (for basic similarity matching).\n",
        "\n",
        "# Standardizing column names\n",
        "sbs_df.columns = sbs_df.columns.str.strip().str.lower()\n",
        "cpt_df.columns = cpt_df.columns.str.strip().str.lower()\n",
        "achi_df.columns = achi_df.columns.str.strip().str.lower()\n",
        "\n",
        "# Convert descriptions to lowercase for uniformity\n",
        "sbs_df[\"service description\"] = sbs_df[\"service description\"].str.lower()\n",
        "cpt_df[\"service description\"] = cpt_df[\"service description\"].str.lower()\n",
        "achi_df[\"service description\"] = achi_df[\"service description\"].str.lower()\n",
        "\n",
        "\n",
        "def get_code_from_description():\n",
        "    \"\"\"\n",
        "    Asks the user to input a medical service description and choose the code type.\n",
        "    Uses TF-IDF and cosine similarity to find the best match.\n",
        "    Displays the matched code, description, and similarity percentage.\n",
        "    \"\"\"\n",
        "    # Step 1: Ask for user input\n",
        "    user_input = input(\"Enter the medical service description: \").strip().lower()\n",
        "\n",
        "    # Step 2: Ask the user to choose the code type\n",
        "    code_type = input(\"Which code do you need? (CPT, SBS, ACHI): \").strip().upper()\n",
        "\n",
        "    # Select the correct dataset\n",
        "    if code_type == \"SBS\":\n",
        "        df = sbs_df\n",
        "    elif code_type == \"CPT\":\n",
        "        df = cpt_df\n",
        "    elif code_type == \"ACHI\":\n",
        "        df = achi_df\n",
        "    else:\n",
        "        print(\"Invalid selection! Please choose CPT, SBS, or ACHI.\")\n",
        "        return\n",
        "\n",
        "    # Vectorizing service descriptions using TF-IDF\n",
        "    vectorizer = TfidfVectorizer()\n",
        "    tfidf_matrix = vectorizer.fit_transform(df[\"service description\"])\n",
        "\n",
        "    # Transform user input into a vector\n",
        "    user_vec = vectorizer.transform([user_input])\n",
        "\n",
        "    # Compute similarity between input and descriptions\n",
        "    similarity_scores = cosine_similarity(user_vec, tfidf_matrix)\n",
        "\n",
        "    # Get the index of the best-matching description\n",
        "    best_match_idx = similarity_scores.argmax()\n",
        "    best_match_score = similarity_scores[0][best_match_idx]  # Get the highest similarity score\n",
        "\n",
        "    # Convert similarity score to percentage\n",
        "    similarity_percentage = round(best_match_score * 100, 2)\n",
        "\n",
        "    # Retrieve the best match details\n",
        "    best_match_description = df.iloc[best_match_idx][\"service description\"]\n",
        "    best_match_code = df.iloc[best_match_idx][\"code\"]\n",
        "\n",
        "    # Print the outcome\n",
        "    print(\"\\nBest Match Found:\")\n",
        "    print(f\"Code: {best_match_code}\")\n",
        "    print(f\"Description: {best_match_description.capitalize()}\")\n",
        "    print(f\"Similarity: {similarity_percentage}%\")\n",
        "\n",
        "# Run the function\n",
        "get_code_from_description()\n"
      ],
      "metadata": {
        "colab": {
          "base_uri": "https://localhost:8080/"
        },
        "id": "uumgRvtP0fxn",
        "outputId": "fc9d976e-9f73-473b-b815-c9a93b13c02e"
      },
      "execution_count": 35,
      "outputs": [
        {
          "output_type": "stream",
          "name": "stdout",
          "text": [
            "Enter the medical service description: Incision and drainage of pilonidal cyst\n",
            "Which code do you need? (CPT, SBS, ACHI): cpt\n",
            "\n",
            "Best Match Found:\n",
            "Code: 10080\n",
            "Description: Incision & drainage pilonidal cyst simple\n",
            "Similarity: 79.86%\n"
          ]
        }
      ]
    }
  ]
}